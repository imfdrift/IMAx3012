{
 "cells": [
  {
   "cell_type": "markdown",
   "id": "0d80e91f",
   "metadata": {},
   "source": [
    "# Sympy kommandoer for regning med vektorfelt\n",
    "\n",
    "I vektorkalkulus bryr vi oss om vektorfelt og de så kallte klassiske differensialoperatorer (div, grad, curl).\n",
    "\n",
    "Vi kan bruke Sympy pakke for å lage vektorfield i Python og beregne de klassiske operatorer."
   ]
  },
  {
   "cell_type": "code",
   "execution_count": null,
   "id": "8d91e7d3",
   "metadata": {},
   "outputs": [],
   "source": [
    "import sympy.vector as vect\n",
    "\n",
    "R = vect.CoordSys3D('R')\n",
    "v = 3*R.i + 4*R.j + 5*R.k"
   ]
  },
  {
   "cell_type": "markdown",
   "id": "1d439761",
   "metadata": {},
   "source": [
    "Lager en vektor $\\begin{bmatrix}3\\\\ 4 \\\\ 5\\end{bmatrix}$. VI kan utvide dette for å få et vektorfelt.\n",
    "\n",
    "Vits med å bruke CoordSys3D kommando er at det medfører noen variabler som beskriver koordinatretninger.\n",
    "For eksempel hvis vi ønsker å legge inn vektorfeltet $F(x,y,z)=\\begin{bmatrix} 2x^2y \\\\ 1 \\\\ y-x\\end{bmatrix}$ kan vi gjøre det slik:"
   ]
  },
  {
   "cell_type": "code",
   "execution_count": null,
   "id": "5e58b355",
   "metadata": {},
   "outputs": [],
   "source": [
    "vektorfelt = 2*R.x**2*R.y*R.i + R.j + (R.y-R.x)*R.k\n",
    "vektorfelt"
   ]
  },
  {
   "cell_type": "markdown",
   "id": "67d8000c",
   "metadata": {},
   "source": [
    "## Nabla operator /Gradient\n",
    "\n",
    "Er kallt i Sympy \"Del\". Vi kaller den slik (og beregner gradienten til funksjonen $f(x,y,z)=xyz$)."
   ]
  },
  {
   "cell_type": "code",
   "execution_count": null,
   "id": "f30d50ba",
   "metadata": {},
   "outputs": [],
   "source": [
    "f = R.x*R.y*R.z\n",
    "Nabla = vect.Del()\n",
    "gradient = Nabla(f)\n",
    "gradient"
   ]
  },
  {
   "cell_type": "markdown",
   "id": "601af946",
   "metadata": {},
   "source": [
    "Dessverre fikk vi ikke svar ennå hva formelen faktisk er. \n",
    "For dette kan vi bruke sympy sin doit() kommando"
   ]
  },
  {
   "cell_type": "code",
   "execution_count": null,
   "id": "3d1a2063",
   "metadata": {},
   "outputs": [],
   "source": [
    "gradient.doit()"
   ]
  },
  {
   "cell_type": "markdown",
   "id": "92e41363",
   "metadata": {},
   "source": [
    "Det finnes også et innebyggd gradient kommando:"
   ]
  },
  {
   "cell_type": "code",
   "execution_count": null,
   "id": "3875b619",
   "metadata": {},
   "outputs": [],
   "source": [
    "vect.gradient(f)"
   ]
  },
  {
   "cell_type": "markdown",
   "id": "62c23256",
   "metadata": {},
   "source": [
    "## Div og Curl\n",
    "\n",
    "Disse er implementert i sympy. Vi kan enten direkte bruke Nabla operator for å lage dem, f.eks. \n",
    "\n",
    "$$\\text{curl} \\mathbf{F} = \\nabla \\times \\mathbf{F}$$\n",
    "\n",
    "(for feltet $\\begin{bmatrix} xyz\\\\ 0 \\\\ 0\\end{bmatrix}$)"
   ]
  },
  {
   "cell_type": "code",
   "execution_count": null,
   "id": "bb0372a3",
   "metadata": {},
   "outputs": [],
   "source": [
    "C = vect.CoordSys3D('C')\n",
    "\n",
    "Nabla.cross(C.x*C.y*C.z*C.i).doit()\n",
    "C.x*C.y*C.j + (-C.x*C.z)*C.k\n",
    "(Nabla ^ C.x*C.y*C.z*C.i).doit()\n",
    "C.x*C.y*C.j + (-C.x*C.z)*C.k"
   ]
  },
  {
   "cell_type": "markdown",
   "id": "2d80fe70",
   "metadata": {},
   "source": [
    "Eller vi bruker direkte curl som er med i Sympy"
   ]
  },
  {
   "cell_type": "code",
   "execution_count": null,
   "id": "6a722c09",
   "metadata": {},
   "outputs": [],
   "source": [
    "vect.curl(C.x*C.y*C.z*C.i)"
   ]
  },
  {
   "cell_type": "markdown",
   "id": "22e48f9d",
   "metadata": {},
   "source": [
    "Samme gjelder for divergens, men vi skal bare vise innbygd kommando"
   ]
  },
  {
   "cell_type": "code",
   "execution_count": null,
   "id": "602aa6d4",
   "metadata": {},
   "outputs": [],
   "source": [
    "vect.divergence(C.x*C.y*C.z*(C.i + C.j + C.k))"
   ]
  },
  {
   "cell_type": "code",
   "execution_count": null,
   "id": "72e52a4c",
   "metadata": {},
   "outputs": [],
   "source": []
  },
  {
   "cell_type": "code",
   "execution_count": null,
   "id": "81d0ba3b",
   "metadata": {},
   "outputs": [],
   "source": []
  }
 ],
 "metadata": {
  "kernelspec": {
   "display_name": "base",
   "language": "python",
   "name": "python3"
  },
  "language_info": {
   "codemirror_mode": {
    "name": "ipython",
    "version": 3
   },
   "file_extension": ".py",
   "mimetype": "text/x-python",
   "name": "python",
   "nbconvert_exporter": "python",
   "pygments_lexer": "ipython3",
   "version": "3.9.12"
  }
 },
 "nbformat": 4,
 "nbformat_minor": 5
}
