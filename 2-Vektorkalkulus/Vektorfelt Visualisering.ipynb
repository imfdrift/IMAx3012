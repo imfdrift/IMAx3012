{
 "cells": [
  {
   "cell_type": "markdown",
   "id": "97488390",
   "metadata": {},
   "source": [
    "# Vektorfelt: Visualisering og ODE\n",
    "\n",
    "I notatbok skal vi se hvordan man kan bruke Python for å visualisere vektorfelt i 2D og 3D.\n",
    "\n",
    "Deretter skal vi også se på ordinære differensiallikninger som involverer vektorfelt og forklare hvordan vektorfelt og løsningskurver til disse ODE knyttes sammen geometrisk.\n",
    "\n",
    "## Visualisering av vektorfelt (2D)\n",
    "\n",
    "Vi begynner med første eksempel fra forelesningsnotater og ønsker å lage et bildet av vektorfelt\n",
    "\n",
    "$$\\vec{F}(x, y) = 2y\\,\\vec{i} + x\\,\\vec{j}$$"
   ]
  },
  {
   "cell_type": "code",
   "execution_count": null,
   "id": "d7966d80",
   "metadata": {},
   "outputs": [],
   "source": [
    "import numpy as np\n",
    "\n",
    "import matplotlib.pyplot as plt\n",
    "%matplotlib widget\n"
   ]
  },
  {
   "cell_type": "code",
   "execution_count": null,
   "id": "71816f37",
   "metadata": {},
   "outputs": [],
   "source": [
    "# Meshgrid\n",
    "x, y = np.meshgrid(np.linspace(-5, 5, 10), np.linspace(-5, 5, 10))\n",
    "# vi lager pilene\n",
    "u = 2*y\n",
    "v = x\n",
    "\n",
    "# Bruk metoden QUIVER\n",
    "plt.quiver(x, y, u, v, color='b')\n",
    "plt.show()"
   ]
  },
  {
   "cell_type": "markdown",
   "id": "47f5a39e",
   "metadata": {},
   "source": [
    "## Visualisering av vektorfelt (3D)\n",
    "\n",
    "Lag et bildet av 3D-vektorfelt\n",
    "$$\\vec{F}(x, y, z) = \\sin(\\pi x)\\cos(\\pi y) \\cos(\\pi z)\\,\\vec{i} - \\cos(\\pi x)\\sin(\\pi y)\\cos(\\pi z)\\,\\vec{j} + \\cos(\\pi x) \\cos(\\pi y) \\sin(\\pi z)\\,\\vec{k}$$\n"
   ]
  },
  {
   "cell_type": "code",
   "execution_count": null,
   "id": "6fae9d59",
   "metadata": {},
   "outputs": [],
   "source": [
    "ax = plt.figure().add_subplot(projection='3d')\n",
    "\n",
    "# Make the grid\n",
    "x, y, z = np.meshgrid(np.arange(-0.8, 1, 0.2),\n",
    "                      np.arange(-0.8, 1, 0.2),\n",
    "                      np.arange(-0.8, 1, 0.8))\n",
    "\n",
    "# Make the direction data for the arrows\n",
    "u = np.sin(np.pi * x) * np.cos(np.pi * y) * np.cos(np.pi * z)\n",
    "v = -np.cos(np.pi * x) * np.sin(np.pi * y) * np.cos(np.pi * z)\n",
    "w = np.cos(np.pi * x) * np.cos(np.pi * y) * np.sin(np.pi * z)\n",
    "\n",
    "ax.quiver(x, y, z, u, v, w, length=0.1, normalize=True)\n",
    "\n",
    "plt.show()"
   ]
  },
  {
   "cell_type": "markdown",
   "id": "933e8360",
   "metadata": {},
   "source": [
    "Hvis vi ønsker mer piler for å se på hvordan feltet oppfører seg"
   ]
  },
  {
   "cell_type": "code",
   "execution_count": null,
   "id": "b5a289be",
   "metadata": {},
   "outputs": [],
   "source": [
    "ax = plt.figure().add_subplot(projection='3d')\n",
    "\n",
    "# Make the grid\n",
    "x, y, z = np.meshgrid(np.linspace(-0.8, 1, 10),\n",
    "                      np.linspace(-0.8, 1, 10),\n",
    "                      np.linspace(-0.8, 1, 10))\n",
    "\n",
    "# Make the direction data for the arrows\n",
    "u = np.sin(np.pi * x) * np.cos(np.pi * y) * np.cos(np.pi * z)\n",
    "v = -np.cos(np.pi * x) * np.sin(np.pi * y) * np.cos(np.pi * z)\n",
    "w = np.cos(np.pi * x) * np.cos(np.pi * y) * np.sin(np.pi * z)\n",
    "\n",
    "ax.quiver(x, y, z, u, v, w, length=0.1, normalize=True)\n",
    "\n",
    "plt.show()"
   ]
  },
  {
   "cell_type": "markdown",
   "id": "455dc7c2",
   "metadata": {},
   "source": [
    "## Gradient vektorfelt og nivålinjer til en funksjon\n",
    "\n",
    "Vi ønsker å lage gradientvektorfelt til funksjonen \n",
    "$$f(x,y)= x^2+y^2$$\n",
    "og plotte det sammen med nivålinjer til $f$, dvs. linjer som visualiserer\n",
    "$$f(x,y)=k \\quad k>0 \\text{ konstant}$$"
   ]
  },
  {
   "cell_type": "code",
   "execution_count": null,
   "id": "ed4cc865",
   "metadata": {
    "scrolled": true
   },
   "outputs": [],
   "source": [
    "# Definer funksjonen og gradienten\n",
    "def f(x, y):\n",
    "    return x**2 + y**2\n",
    "\n",
    "def grad_f(x, y):\n",
    "    f_x = 2 * x\n",
    "    f_y = 2 * y\n",
    "    return f_x, f_y\n",
    "\n",
    "# Lag mesh\n",
    "x = np.linspace(-3, 3, 30)\n",
    "y = np.linspace(-3, 3, 30)\n",
    "X, Y = np.meshgrid(x, y)\n",
    "\n",
    "# Compute the function values and gradients\n",
    "Z = f(X, Y)\n",
    "U, V = grad_f(X, Y)\n",
    "\n",
    "# Plot\n",
    "plt.figure()\n",
    "contours = plt.contour(X, Y, Z, levels=20, cmap='viridis')\n",
    "plt.clabel(contours, inline=True, fontsize=8)\n",
    "plt.quiver(X, Y, U, V, color='blue', pivot='middle')\n",
    "\n",
    "# Labels and title\n",
    "plt.title(r\"Vector field: Gradient of $f(x, y) = x^2 + y^2$\")\n",
    "plt.xlabel('x')\n",
    "plt.ylabel('y')\n",
    "plt.grid(True)\n",
    "plt.axis('equal')\n",
    "plt.show()"
   ]
  },
  {
   "cell_type": "markdown",
   "id": "83ff4b31",
   "metadata": {},
   "source": [
    "Bemerkning:\n",
    "\n",
    "- Nivålinjer er sirkler av radius $\\sqrt{k}$"
   ]
  },
  {
   "cell_type": "markdown",
   "id": "0ac958af",
   "metadata": {},
   "source": [
    "## Vektorfelt og ordinære differensialligninger\n",
    "\n",
    "Vi skal se på ordinære differensiallikninger hvor høyre side er gitt som et vektorfelt.\n",
    "\n",
    "Som første eksempel skal vi se på felt \n",
    "\n",
    "$$\\vec{F} (x,y)=y\\vec{i}-\\sin(x)\\vec{j}$$\n",
    "\n",
    "og løse\n",
    "\n",
    "$$\\gamma_1'(t) =\\gamma_2 (t), \\quad \\gamma_2'(t) = -\\sin (\\gamma_1(t)),\\quad \\text{ med }\\gamma(0)=(5,9)^\\top$$\n",
    "\n",
    "Dette er en ikke lineær system av første ordens differensiallikninger med initialverdier. Vi skal bruke SciPy for å løse det numerisk."
   ]
  },
  {
   "cell_type": "code",
   "execution_count": null,
   "id": "5d207f0a",
   "metadata": {},
   "outputs": [],
   "source": [
    "from scipy.integrate import solve_ivp\n"
   ]
  },
  {
   "cell_type": "code",
   "execution_count": null,
   "id": "b93be7e8",
   "metadata": {},
   "outputs": [],
   "source": [
    "# Define the system of ODEs\n",
    "def system(t, z):\n",
    "    x, y = z\n",
    "    dxdt = y\n",
    "    dydt = -np.sin(x)\n",
    "    return [dxdt, dydt]\n",
    "\n",
    "# Initial betingelser\n",
    "x0 = 5\n",
    "y0 = 9\n",
    "z0 = [x0, y0]\n",
    "\n",
    "# Time span for the solution\n",
    "t_span = (0, 1)\n",
    "t_eval = np.linspace(*t_span, 1000)\n",
    "\n",
    "# Løs systemet numerisk\n",
    "sol = solve_ivp(system, t_span, z0, t_eval=t_eval, method='RK45')\n",
    "\n",
    "# Extract solutions\n",
    "x = sol.y[0]\n",
    "y = sol.y[1]\n",
    "\n",
    "# Plotting the solution in the phase space (x vs y)\n",
    "plt.figure(figsize=(8, 6))\n",
    "plt.plot(x, y, label='Trajectory in (x, y)', color='blue')\n",
    "plt.scatter([x0], [y0], color='red', label='Initial point')\n",
    "plt.xlabel('x(t)')\n",
    "plt.ylabel('y(t)')\n",
    "plt.title('Phase space plot of the system')\n",
    "plt.legend()\n",
    "plt.grid(True)\n",
    "plt.axis('equal')\n",
    "plt.show()"
   ]
  },
  {
   "cell_type": "code",
   "execution_count": null,
   "id": "d872a631",
   "metadata": {},
   "outputs": [],
   "source": [
    "# Initial betingelser\n",
    "x0 = 5\n",
    "y0 = 9\n",
    "z0 = [x0, y0]\n",
    "T_0 = 0\n",
    "T_Max = 0.5\n",
    "\n",
    "# Time span for the solution\n",
    "t_span = (T_0, T_Max)\n",
    "t_eval = np.linspace(*t_span, 1000)\n",
    "\n",
    "# Løs systemet numerisk\n",
    "sol = solve_ivp(system, t_span, z0, t_eval=t_eval, method='RK45')\n",
    "\n",
    "# Extract solutions\n",
    "x = sol.y[0]\n",
    "y = sol.y[1]\n",
    "\n",
    "# Plot vektorfelt\n",
    "def F (x,y):\n",
    "    return [y,-np.sin(x)]\n",
    "\n",
    "x_vals = np.linspace(min(x)-1, max(x)+1, 20)\n",
    "y_vals = np.linspace(min(y)-1, max(y)+1, 20)\n",
    "X, Y = np.meshgrid(x_vals, y_vals)\n",
    "U, V = F(X,Y)\n",
    "\n",
    "# Normalize vectors for better quiver visualization\n",
    "N = np.sqrt(U**2 + V**2)\n",
    "U_norm = U #/ N\n",
    "V_norm = V #/ N\n",
    "\n",
    "# Plotting the solution in the phase space (x vs y)\n",
    "plt.figure(figsize=(8, 6))\n",
    "plt.plot(x, y, label='Trajectory in (x, y)', color='blue')\n",
    "plt.quiver(X, Y, U_norm, V_norm, angles='xy', color='gray', alpha=0.6, label='Vector field')\n",
    "plt.scatter([x0], [y0], color='red', label='Initial point')\n",
    "plt.xlabel('x(t)')\n",
    "plt.ylabel('y(t)')\n",
    "plt.title('Phase space plot of the system')\n",
    "plt.legend()\n",
    "plt.grid(True)\n",
    "plt.axis('equal')\n",
    "plt.show()"
   ]
  },
  {
   "cell_type": "code",
   "execution_count": null,
   "id": "48582449",
   "metadata": {},
   "outputs": [],
   "source": []
  }
 ],
 "metadata": {
  "kernelspec": {
   "display_name": "base",
   "language": "python",
   "name": "python3"
  },
  "language_info": {
   "codemirror_mode": {
    "name": "ipython",
    "version": 3
   },
   "file_extension": ".py",
   "mimetype": "text/x-python",
   "name": "python",
   "nbconvert_exporter": "python",
   "pygments_lexer": "ipython3",
   "version": "3.9.12"
  }
 },
 "nbformat": 4,
 "nbformat_minor": 5
}
