{
 "cells": [
  {
   "cell_type": "markdown",
   "id": "30416ca2",
   "metadata": {},
   "source": [
    "# Forslag til pythonkode/algoritmer under modulen integrasjon\n"
   ]
  }
 ],
 "metadata": {
  "language_info": {
   "name": "python"
  }
 },
 "nbformat": 4,
 "nbformat_minor": 5
}
