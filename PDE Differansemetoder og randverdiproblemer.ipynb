{
 "cells": [
  {
   "cell_type": "markdown",
   "metadata": {},
   "source": [
    "<!-- dom:TITLE: Partial differential equations and finite difference methods. -->\n",
    "# Partial differential equations og finite difference methods.\n",
    "<!-- dom:AUTHOR: Anne Kværnø, modified by André Massing, A. Schmeding -->\n",
    "<!-- Author: -->  \n",
    "**Anne Kværnø, modified by André Massing, A. Schmeding**\n",
    "\n",
    "Date: **Jun 18, 2025**\n",
    "\n",
    "La oss først laste inn moduler vi trenger"
   ]
  },
  {
   "cell_type": "code",
   "execution_count": null,
   "metadata": {},
   "outputs": [],
   "source": [
    "%matplotlib inline\n",
    "\n",
    "import numpy as np\n",
    "from numpy import pi\n",
    "from numpy.linalg import solve, norm    \n",
    "import matplotlib.pyplot as plt\n",
    "\n",
    "# Use a funny plotting style\n",
    "plt.xkcd()\n",
    "newparams = {'figure.figsize': (6.0, 6.0), 'axes.grid': True,\n",
    "             'lines.markersize': 8, 'lines.linewidth': 2,\n",
    "             'font.size': 14}\n",
    "plt.rcParams.update(newparams)"
   ]
  },
  {
   "cell_type": "markdown",
   "metadata": {},
   "source": [
    "# Innledning \n",
    "\n",
    "I dette notatet skal den endelige differansemetoden for å løse partialdifferensiallikninger (PDE-er) presenteres.\n",
    "Grovsett består en endelig differansemetode av følgende trinn:\n",
    "\n",
    "1. Diskretiser definisjonsmengden av likningen.\n",
    "\n",
    "2. Erstatt de deriverte i hvert rutenettpunkt med en approksimasjon, ved å bruke verdiene i nabopunktene.\n",
    "\n",
    "3. Erstatt den eksakte løsningen med dens approksimasjon.\n",
    "\n",
    "4. Løs det resulterende ligningssystemet.\n",
    "\n",
    "Vi skal først se hvordan man finner approksimasjoner til den deriverte av en funksjon, og deretter hvordan dette kan brukes til å løse randverdiproblemer (RVP) som"
   ]
  },
  {
   "cell_type": "markdown",
   "metadata": {},
   "source": [
    "$$\n",
    "u'' + p(x) u' + q(x) u = r(x), \\qquad a \\leq x \\leq b, \\qquad u(a)=u_a, \\quad\n",
    "u(b)=u_b,\n",
    "$$"
   ]
  },
  {
   "cell_type": "markdown",
   "metadata": {},
   "source": [
    "# Numerisk derivasjon\n",
    "Dette er hovedverktøyet for endelige differansemetoder.\n",
    "\n",
    "Gitt en tilstrekkelig glatt funksjon $f$. Hvordan kan vi finne en approksimasjon til $f'(x)$ eller $f''(x)$ i et gitt punkt $x$, kun ved å evaluere funksjonen selv?\n",
    "\n",
    "[Den deriverte av $f$](https://wiki.math.ntnu.no/tma4100/tema/differentiation?&#definisjonen_av_den_deriverte_gitt_som_en_grenseverd)\n",
    "er definert som"
   ]
  },
  {
   "cell_type": "markdown",
   "metadata": {},
   "source": [
    "$$\n",
    "f'(x) = \\lim_{h\\rightarrow 0} \\frac{f(x+h)-f(x)}{h}.\n",
    "$$"
   ]
  },
  {
   "cell_type": "markdown",
   "metadata": {},
   "source": [
    "For liten $h$, høyre side av ligningen approksimerer $f'(x)$. De vanligste metoder for det er disse:"
   ]
  },
  {
   "cell_type": "markdown",
   "metadata": {},
   "source": [
    "$$\n",
    "f'(x) \\approx \\left\\{\n",
    "   \\begin{array}{ll}\n",
    "     \\displaystyle \\frac{f(x+h)-f(x)}{h}, \\qquad & \\text{Fremover differanse,} \\\\ \n",
    "     \\displaystyle \\frac{f(x)-f(x-h)}{h}, & \\text{Bakover differanse,} \\\\ \n",
    "     \\displaystyle \\frac{f(x+h)-f(x-h)}{2h}, & \\text{Sentral differanse.}\n",
    "   \\end{array} \\right.\n",
    "$$"
   ]
  },
  {
   "cell_type": "markdown",
   "metadata": {},
   "source": [
    "$$\n",
    "f''(x) \\approx \\frac{f(x+h)-2f(x)+f(x-h)}{h^2}.\n",
    "$$"
   ]
  },
  {
   "cell_type": "markdown",
   "metadata": {},
   "source": [
    "**Numerisk eksempel:**\n",
    "Test metoden for $f(x)=\\sin(x)$ ved $x=\\frac{\\pi}{4}$.\n",
    "Samenlikne med den eksakte deriverte. Prøv ulike steg lengde, f.eks. $h=0.1, h=0.01, h=0.001$.\n",
    "Se hvordan feilen endrer seg med $h$."
   ]
  },
  {
   "cell_type": "code",
   "execution_count": null,
   "metadata": {},
   "outputs": [],
   "source": [
    "from numpy import *               \n",
    "from scipy.sparse import diags\t        # Greate diagonal matrices\n",
    "from scipy.linalg import solve\t        # Solve linear systems\n",
    "from matplotlib.pyplot import *     \t\n",
    "from mpl_toolkits.mplot3d import Axes3D  # For 3-d plot\n",
    "from matplotlib import cm \n",
    "newparams = {'figure.figsize': (8.0, 4.0), 'axes.grid': True,\n",
    "             'lines.markersize': 8, 'lines.linewidth': 2,\n",
    "             'font.size': 14}\n",
    "rcParams.update(newparams)\n",
    "from numpy import *"
   ]
  },
  {
   "cell_type": "code",
   "execution_count": null,
   "metadata": {},
   "outputs": [],
   "source": [
    "# Numerisk derivasjon\n",
    "\n",
    "# Fremover differanse\n",
    "def diff_forward(f, x, h=0.1):\n",
    "    return (f(x+h)-f(x))/h\n",
    "\n",
    "# Backlengs differanse\n",
    "def diff_backward(f, x, h=0.1):\n",
    "    return (f(x)-f(x-h))/h\n",
    " \n",
    "# Sentral differanse for f'(x):\n",
    "def diff_central(f, x, h=0.1):\n",
    "    return (f(x+h)-f(x-h))/(2*h)\n",
    "# end of diff_central\n",
    "\n",
    "# Sentral differanse for f''(x):\n",
    "def diff2_central(f, x, h=0.1):\n",
    "    return (f(x+h)-2*f(x)+f(x-h))/h**2"
   ]
  },
  {
   "cell_type": "code",
   "execution_count": null,
   "metadata": {},
   "outputs": [],
   "source": [
    "# Numerisk eksempel 1\n",
    "x = pi/4;\n",
    "df_exact = cos(x)\n",
    "ddf_exact = -sin(x)\n",
    "h = 0.1\n",
    "f = sin\n",
    "df = diff_forward(f, x, h)\n",
    "print('Approximations to the first derivative')\n",
    "print('Forward difference:  df = {:12.8f},   Error = {:10.3e} '.format(df, df_exact-df))\n",
    "df = diff_backward(f, x, h)\n",
    "print('Backward difference: df = {:12.8f},   Error = {:10.3e} '.format(df, df_exact-df))\n",
    "df = diff_central(f, x, h)\n",
    "print('Central difference:  df = {:12.8f},   Error = {:10.3e} '.format(df, df_exact-df))\n",
    "print('Approximation to the second derivative') \n",
    "ddf = diff2_central(f, x, h)\n",
    "print('Central difference:  ddf= {:12.8f},   Error = {:10.3e} '.format(ddf, ddf_exact-ddf))"
   ]
  },
  {
   "cell_type": "markdown",
   "metadata": {},
   "source": [
    "## Bonus informasjon: Error analysis\n",
    "In this case the error analysis is quite simple: Do a Taylor expansion of the\n",
    "error around $x$. The Taylor expansion becomes a power series in $h$.\n",
    "\n",
    "\n",
    "The expansion for the error of the forward difference is:"
   ]
  },
  {
   "cell_type": "markdown",
   "metadata": {},
   "source": [
    "$$\n",
    "e(x;h) = f'(x) - \\frac{f(x+h)-f(x)}{h}  = f'(x) - \\frac{f(x)+f'(x)h + \\frac{1}{2}f''(\\xi)h^2 - f(x)}{h} = -\\frac{1}{2}f''(\\xi)h\n",
    "$$"
   ]
  },
  {
   "cell_type": "markdown",
   "metadata": {},
   "source": [
    "where $\\xi\\in (x,x+h)$.  \n",
    "\n",
    "The expansion for the error of the central difference is slightly more complicated:"
   ]
  },
  {
   "cell_type": "markdown",
   "metadata": {},
   "source": [
    "$$\n",
    "\\begin{align*}\n",
    "e(x; h) &= f'(x) - \\frac{f(x+h)-f(x-h)}{2h} \\\\ \n",
    "        &= f'(x) \\\\ &- \\frac{\\big(f(x)+f'(x)h + \\frac{1}{2} f''(x)h^2 + \\frac{1}{6} f'''(\\xi_1)h^2 \\big) - \\big(f(x)-f'(x)h + \\frac{1}{2} f''(x)h^2 - \\frac{1}{6} f'''(\\xi_2)h^2\\big)}{2h} \\\\ \n",
    "        &= -\\frac{1}{12}\\big(f'''(\\xi_1) + f'''(\\xi_2)\\big)h^2  \\\\ \n",
    "        &= -\\frac{1}{6}f'''(\\eta)h^2, \\qquad \\qquad  \\eta \\in (x-h, x+h),\n",
    "\\end{align*}\n",
    "$$"
   ]
  },
  {
   "cell_type": "markdown",
   "metadata": {},
   "source": [
    "where the two remainder terms have been combined by the intermediate value theorem\n",
    "(Result 2 at the end of *Preliminaries*). The error for the approximation of the\n",
    "second order derivative can be found similarly. \n",
    "\n",
    "The order of an approximation is $p$ if there exist a constant $C$ independent on $h$ such that"
   ]
  },
  {
   "cell_type": "markdown",
   "metadata": {},
   "source": [
    "$$\n",
    "|e(h;x) \\leq C h^p,\n",
    "$$"
   ]
  },
  {
   "cell_type": "markdown",
   "metadata": {},
   "source": [
    "In practice, it is sufficient to show that the power expansion of the error satisfies"
   ]
  },
  {
   "cell_type": "markdown",
   "metadata": {},
   "source": [
    "$$\n",
    "e(x,h)=C_ph^{p}+ C_{p+1}h^{p+1} + \\dotsm, \\qquad C_p \\not=0\n",
    "$$"
   ]
  },
  {
   "cell_type": "markdown",
   "metadata": {},
   "source": [
    "The forward and backward approximations\n",
    "are of order 1, the central differences of order 2. "
   ]
  },
  {
   "cell_type": "markdown",
   "metadata": {},
   "source": [
    "# To punkt randverdiproblemer (RVP)\n",
    "\n",
    "Gitt en to punkt randverdiproblem:"
   ]
  },
  {
   "cell_type": "markdown",
   "metadata": {},
   "source": [
    "$$\n",
    "u'' + p(x) u' + q(x) u = r(x), \\qquad a \\leq x \\leq b, \\qquad u(a)=u_a, \\quad u(b)=u_b,\n",
    "$$"
   ]
  },
  {
   "cell_type": "markdown",
   "metadata": {},
   "source": [
    "Der \\(p\\) og \\(q\\) er gitte funksjoner av \\(x\\), og randverdiene \\(u_a\\) og \\(u_b\\) er gitte konstanter.\n",
    "\n",
    "En endelig differansemetode for dette problemet konstrueres ved følgende steg:\n",
    "\n",
    "**Steg 1:**\n",
    "Gitt intervallet \\([a, b]\\). Velg \\(N\\), la \\(h = \\frac{b - a}{N}\\), og definer \\(x_i = a + ih\\), for \\(i = 0, 1, \\dotsc, N\\).\n",
    "\n",
    "**Steg 2:**\n",
    "For hvert indre rutenettpunkt \\(x_i\\), \\(i = 1, \\dotsc, N-1\\), erstatt de deriverte i RVP-en med deres approksimasjoner. Resultatet blir:\n"
   ]
  },
  {
   "cell_type": "markdown",
   "metadata": {},
   "source": [
    "$$\n",
    "\\frac{u(x_i+h)-2u(x_i)+u(x_i-h)}{h^2} + p(x_i) \\frac{u(x_i+h)-u(x_i-h)}{2h} + q(x_i) u(x_i) = r(x_i)\n",
    "$$"
   ]
  },
  {
   "cell_type": "markdown",
   "metadata": {},
   "source": [
    "**Steg 3:** Bytt eksakt løsning $u(x_i)$ med en numerisk (men fortsatt ukjent) approksimasjon $U_i$:"
   ]
  },
  {
   "cell_type": "markdown",
   "metadata": {},
   "source": [
    "$$\n",
    "\\frac{U_{i+1}-2U_i+U_{i-1}}{h^2} + p(x_i)\\frac{U_{i+1}-U_{i-1}}{2h} + q(x_i) U_i =  r(x_i), \\qquad i=1,\\dotsc,N-1.\n",
    "$$"
   ]
  },
  {
   "cell_type": "markdown",
   "metadata": {},
   "source": [
    "Dette er en *diskretisering* av RVPen. Hvis vi ha verdier på rand for ligningen, diskretisering er et lineært system"
   ]
  },
  {
   "cell_type": "markdown",
   "metadata": {},
   "source": [
    "$$\n",
    "A \\mathbf{U} = \\mathbf{b},\n",
    "$$"
   ]
  },
  {
   "cell_type": "markdown",
   "metadata": {},
   "source": [
    "hvor $A$ er en $N+1\\times N+1$ matrise og  $\\mathbf{U} = [U_0,\\dotsc,U_{N}]^T$. Multipliserer viligninger med $h^2$ får vi:"
   ]
  },
  {
   "cell_type": "markdown",
   "metadata": {},
   "source": [
    "$$\n",
    "A =  \\left[ \\begin{array}{ccccccc}\n",
    "      1 & 0 & &  \\\\ \n",
    "      v_1 & d_1 & w_1 & & &  \\\\ \n",
    "        & v_2 & d_2 & w_2 &  \\\\ \n",
    "        & & v_3 & \\ddots & \\ddots & \\\\ \n",
    "        & & & \\ddots & \\ddots & w_{N-2} \\\\ \n",
    "        & & & & v_{N-1} & d_{N-1} & w_{N-1}  \\\\ \n",
    "        & & & & &  0 & 1\n",
    "    \\end{array} \\right]\n",
    "    \\qquad \\text{med} \\qquad\n",
    "    \\begin{array}{l}\n",
    "    \\displaystyle v_i =1-\\frac{h}{2}p(x_i) \\\\ \n",
    "    \\displaystyle d_i = -2 + h^2q(x_i) \\\\ \n",
    "    \\displaystyle w_i = 1+\\frac{h}{2}p(x_i)\n",
    "    \\end{array}.\n",
    "$$"
   ]
  },
  {
   "cell_type": "markdown",
   "metadata": {},
   "source": [
    "Høyre side $\\mathbf{b}$ er gitt som"
   ]
  },
  {
   "cell_type": "markdown",
   "metadata": {},
   "source": [
    "$$\n",
    "\\mathbf{b} = [u_a, h^2r(x_1), \\dotsc, h^2r(x_{N-1}), u_b]^T.\n",
    "$$"
   ]
  },
  {
   "cell_type": "markdown",
   "metadata": {},
   "source": [
    "**Steg 4:** Løs  $A \\mathbf{U} = \\mathbf{b}$.\n",
    "\n",
    "\n",
    "**Eksempel 1:**\n",
    "Gitt ligningen "
   ]
  },
  {
   "cell_type": "markdown",
   "metadata": {},
   "source": [
    "$$\n",
    "u'' + 2u' - 3u = 9x, \\qquad u(0)=u_a = 1, \\quad u(1)=u_b = e^{-3}+2e-5=0.486351,\n",
    "$$"
   ]
  },
  {
   "cell_type": "markdown",
   "metadata": {},
   "source": [
    "med eksakt løsning $u(x)= e^{-3x}+2e^{x}-3x-2$.\n",
    "\n",
    "Velg $N$ og la $h=1/N$. Bruk sentrale differanser for $u'$ og $u''$, slik at"
   ]
  },
  {
   "cell_type": "markdown",
   "metadata": {},
   "source": [
    "$$\n",
    "\\frac{u(x_i+h)-2u(x_i)+u(x_i-h)}{h^2} + 2 \\frac{u(x_i+h)-u(x_i-h)}{2h} -3\n",
    "u(x_i) =  9 x_i, \\qquad i=1,\\dotsc, N\n",
    "$$"
   ]
  },
  {
   "cell_type": "markdown",
   "metadata": {},
   "source": [
    "La $U_i \\approx u(x_i)$. Multipliser med $h^2$ på begge sider og inkluder $U_0=u_a$ og $U_N=u_b$:"
   ]
  },
  {
   "cell_type": "markdown",
   "metadata": {},
   "source": [
    "$$\n",
    "\\begin{align*}\n",
    " U_0 &= 1 \\\\ \n",
    " (1-h)U_{i-1} + (-2-3h^2)U_i + (1+h)U_{i+1} &= 9x_ih^2, && i=1, \\cdots N-1, \\\\ \n",
    " U_N &= 0.486351\n",
    "\\end{align*}\n",
    "$$"
   ]
  },
  {
   "cell_type": "markdown",
   "metadata": {},
   "source": [
    "I praksis ha vi et system av 3 ligninger i 3 ukjente,"
   ]
  },
  {
   "cell_type": "markdown",
   "metadata": {},
   "source": [
    "$$\n",
    "\\left(\\begin{array}{ccc}\n",
    "   -2.1875 & 1.25 & 0 \\\\ \n",
    "  0.75 & -2.1875 & 1.25 \\\\ \n",
    "   0 & 0.75 & -2.1875\n",
    "\\end{array} \\right)\n",
    "\\left( \\begin{array}{c} U_1 \\\\ U_2 \\\\ U_3  \\end{array} \\right) =\n",
    "\\left( \\begin{array}{c} 0.140625-0.75\\cdot 1 \\\\ 0.28125  \\\\  0.421875-1.25 \\cdot\n",
    "0.48635073  \\end{array} \\right),\n",
    "$$"
   ]
  },
  {
   "cell_type": "markdown",
   "metadata": {},
   "source": [
    "med løsning"
   ]
  },
  {
   "cell_type": "markdown",
   "metadata": {},
   "source": [
    "$$\n",
    "U_1 = 0.293176, \\qquad U_2= 0.025557, \\qquad  0.093820.\n",
    "$$"
   ]
  },
  {
   "cell_type": "markdown",
   "metadata": {},
   "source": [
    "Eksakte løsninger i punktene er:"
   ]
  },
  {
   "cell_type": "markdown",
   "metadata": {},
   "source": [
    "$$\n",
    "u(0.25) = 0.290417, \\qquad u(0.5) = 0.020573, \\qquad u(0.75) = 0.089400.\n",
    "$$"
   ]
  },
  {
   "cell_type": "markdown",
   "metadata": {},
   "source": [
    "## Implementering\n",
    "For enkelhets skyld er implementeringen nedenfor kun gjort for randverdiproblemer (BVP-er) med konstante koeffisienter, det vil si at $p(x)=p$ og $q(x)=q$. Dette gjør at diagonalen, underdiagonalen og overdiagonalen i matrisen blir konstante, bortsett fra i første og siste rad.\n",
    "En hjelpefunksjon er inkludert for å konstruere matriser av formen $A =\n",
    "\\text{tridiag}\\{v,d,w\\}$. \n",
    "\n",
    "Implementering består av\n",
    "1. Velg $N$, la $h=(b-a)/N$ og $x_i=a+ih$, $i=0,\\dotsc,N$.\n",
    "\n",
    "2. Konstruer matrise $A\\in \\mathbb{R}^{N+1\\times N+1}$ og vektor $b\\in\\mathbb{R}^{N+1}$. Matrisa $A$ er tridiagonal, med elementer (med unntak av første og siste rad) $v=1-\\frac{h}{2}p$ under diagonalen, $d = -2 + h^2 q$ på diagonalen og  $w = 1+\\frac{h}{2}p$ over diagonalen. \n",
    "\n",
    "3. Konstruer $\\mathbf{b} = [b_0,\\dotsc,b_N]^T$ med elemeneter $b_i=h^2r(x_i)$ for $i=1,\\dotsc,N-1$.\n",
    "\n",
    "4. Modifiser første og siste rad av $A$ og første og siste element i $\\mathbf{b}$, med hensyn til randverdier\n",
    "\n",
    "5. Løs $A\\mathbf{U} = \\mathbf{b}$."
   ]
  },
  {
   "cell_type": "code",
   "execution_count": null,
   "metadata": {},
   "outputs": [],
   "source": [
    "def tridiag(v, d, w, N):\n",
    "    # Help function \n",
    "    # Returns a tridiagonal matrix A=tridiag(v, d, w) of dimension N x N.\n",
    "    e = ones(N)        # array [1,1,...,1] of length N\n",
    "    A = v*diag(e[1:],-1)+d*diag(e)+w*diag(e[1:],1)\n",
    "    return A"
   ]
  },
  {
   "cell_type": "code",
   "execution_count": null,
   "metadata": {},
   "outputs": [],
   "source": [
    "# Eksempel 1, RVP\n",
    "\n",
    "# Define the equation \n",
    "# u'' + p*u' + q*u = r(x) on the interval [a,b]\n",
    "# Boundary condition: u(a)=ua and u(b)=ub\n",
    "\n",
    "p = 2\n",
    "q = -3\n",
    "def r(x):\n",
    "    return 9*x\n",
    "a, b = 0, 1\n",
    "ua, ub = 1, exp(-3)+2*exp(1)-5\n",
    "\n",
    "# The exact solution (if known)\n",
    "def u_eksakt(x):\n",
    "    return exp(-3*x)+2*exp(x)-3*x-2\n",
    "\n",
    "# Set up the discrete system\n",
    "N = 4                      # Number of intervals                  \n",
    "\n",
    "# Start the discretization  \n",
    "h = (b-a)/N                # Stepsize\n",
    "x = linspace(a, b, N+1)    # The gridpoints x_0=a, x_1=a+h, .... , x_N=b \n",
    "\n",
    "# Make a draft of the A-matrix (first and last row have to be adjusted)\n",
    "v = 1-0.5*h*p              # Subdiagonal\n",
    "d = -2+h**2*q              # Diagonal\n",
    "w = 1+0.5*h*p              # Superdiagonal\n",
    "A = tridiag(v, d, w, N+1)  \n",
    "\n",
    "# Make a draft of the b-vector\n",
    "b = h**2*r(x)  \n",
    "\n",
    "# Modify the first equation (left boundary) \n",
    "A[0,0] = 1\n",
    "A[0,1] = 0\n",
    "b[0] = ua\n",
    "        \n",
    "# Modify the last equation (right boundary)   \n",
    "A[N,N] = 1              \n",
    "A[N,N-1] = 0\n",
    "b[N] = ub\n",
    "\n",
    "\n",
    "U = solve(A, b)     #  Solve the equation"
   ]
  },
  {
   "cell_type": "markdown",
   "metadata": {},
   "source": [
    "La oss verifisere beregninger. Print $A$, $\\mathbf{b}$ og numerisk løsning $\\mathbf{U}$."
   ]
  },
  {
   "cell_type": "code",
   "execution_count": null,
   "metadata": {},
   "outputs": [],
   "source": [
    "# Print the matrix A, the right hand side b the numerical and exact solution\n",
    "print('A =\\n', A)                 \n",
    "print('\\nb =\\n ', b)\n",
    "print('\\nU =\\n ', U)\n",
    "print('\\nu(x)=\\n', u_eksakt(x))"
   ]
  },
  {
   "cell_type": "code",
   "execution_count": null,
   "metadata": {},
   "outputs": [],
   "source": [
    "# Plot the solution of the BVP\n",
    "xe = linspace(0,1,101)\n",
    "plot(x,U,'.-')\n",
    "plot(xe, u_eksakt(xe),':')              \n",
    "xlabel('x')\n",
    "ylabel('u')\n",
    "legend(['Numerisk','Eksakt'])\n",
    "title('Løsningen av et to-punkt randverdiproblem.');"
   ]
  },
  {
   "cell_type": "code",
   "execution_count": null,
   "metadata": {
    "collapsed": true
   },
   "outputs": [],
   "source": [
    "# Plot the error |u(x)-U| in the gridpoints\n",
    "error = abs(u_eksakt(x)-U)\n",
    "plot(x, error,'.-')\n",
    "xlabel('x')\n",
    "ylabel('error')\n",
    "title('Error: u(x)-U');\n",
    "print('Max error = {:.3e}'.format(max(abs(error))))"
   ]
  },
  {
   "cell_type": "markdown",
   "metadata": {},
   "source": [
    "** Eksempel 2:**\n",
    "\n",
    "Gitt det samme eksempelet som før, men nå med en Neumann-betingelse i venstre randpunkt:"
   ]
  },
  {
   "cell_type": "markdown",
   "metadata": {},
   "source": [
    "$$\n",
    "u'' + 2u' - 3u = 9x, \\qquad u'(0)=u'_a =-4, \\quad u(1)=u_b = -2e^{-3}+e-5 =\n",
    "0.48635073,\n",
    "$$"
   ]
  },
  {
   "cell_type": "markdown",
   "metadata": {},
   "source": [
    "med eksakt løsning $u(x)= e^{-3x}-2e^{x}-3x-2$.\n",
    "\n",
    "Modifisert ligning ved rand $x_0=0$ er:"
   ]
  },
  {
   "cell_type": "markdown",
   "metadata": {},
   "source": [
    "$$\n",
    "\\frac{2U_1-2U_0-2u'_a h}{h^2} +2u'_a - 3U_0 = 0.\n",
    "$$"
   ]
  },
  {
   "cell_type": "markdown",
   "metadata": {},
   "source": [
    "Multipliser med $h^2$, og inkluder ligning som diskretisering for $x_0$."
   ]
  },
  {
   "cell_type": "markdown",
   "metadata": {},
   "source": [
    "$$\n",
    "\\begin{align*}\n",
    " (-2-3h^2)U_0 - 2U_1 &= (2h-2h^2)u'_a \\\\ \n",
    " (1-h)U_{i-1} + (-2-3h^2)U_i + (1+h)U_{i+1} &= 9 h^2 x_i, && i=1, \\cdots N-1. \\\\ \n",
    " U_N &= u_b,\n",
    "\\end{align*}\n",
    "$$"
   ]
  },
  {
   "cell_type": "markdown",
   "metadata": {},
   "source": [
    "for $N=4$ og $h=0.25$ er det:"
   ]
  },
  {
   "cell_type": "markdown",
   "metadata": {},
   "source": [
    "$$\n",
    "\\left( \\begin{array}{ccccc}\n",
    "  -2.1875 & 2 & 0 & 0 & 0  \\\\ \n",
    "  0.75 & -2.1875 & 1.25 & 0 & 0 \\\\ \n",
    " 0 & 0.75 & -2.1875 & 1.25 & 0 \\\\ \n",
    " 0 & 0 & 0.75 & -2.1875 & 1.25 \\\\ \n",
    " 0 & 0 & 0 & 0 & 1 \\\\ \n",
    "\\end{array}\\right)\\left(\\begin{array}{c} U_{0} \\\\ U_1 \\\\ U_2 \\\\ U_3 \\\\ U_4\n",
    "\\end{array}\\right) = \\left(\\begin{array}{c} -1.5  \\\\ 0.140625  \\\\  0.28125  \\\\ \n",
    "0.421875  \\\\  0.48635073 \\end{array} \\right).\n",
    "$$"
   ]
  },
  {
   "cell_type": "markdown",
   "metadata": {},
   "source": [
    "Løsnignen er"
   ]
  },
  {
   "cell_type": "markdown",
   "metadata": {},
   "source": [
    "$$\n",
    "U_0 = 0.92103219, \\quad U_1 = 0.25737896, \\quad  U_2 = 0.01029386, \\qquad U_3 = 0.08858688.\n",
    "$$"
   ]
  },
  {
   "cell_type": "markdown",
   "metadata": {},
   "source": [
    "**Numerisk Øving:**\n",
    "1. Modifiser koden over for å løse problemet. Bruk $N=4$ for å sjekke løsningen, men også prøv $N=10$ og $N=20$. \n",
    "\n",
    "2.  Modifiser koden over for å løse RVP, men nå med venstre rand betingelse \\\\ $u'(a)+u(a)/4=0$. "
   ]
  },
  {
   "cell_type": "code",
   "execution_count": null,
   "metadata": {},
   "outputs": [],
   "source": []
  }
 ],
 "metadata": {
  "kernelspec": {
   "display_name": "base",
   "language": "python",
   "name": "python3"
  },
  "language_info": {
   "codemirror_mode": {
    "name": "ipython",
    "version": 3
   },
   "file_extension": ".py",
   "mimetype": "text/x-python",
   "name": "python",
   "nbconvert_exporter": "python",
   "pygments_lexer": "ipython3",
   "version": "3.9.12"
  }
 },
 "nbformat": 4,
 "nbformat_minor": 4
}
