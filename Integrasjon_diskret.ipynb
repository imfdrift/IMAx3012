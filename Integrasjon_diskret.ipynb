{
 "cells": [
  {
   "cell_type": "markdown",
   "id": "0ed676a8",
   "metadata": {},
   "source": []
  },
  {
   "cell_type": "markdown",
   "id": "a4f74c58",
   "metadata": {},
   "source": [
    "# Integrasjon av diskrete verdier ved inndeling i celler\n",
    "\n",
    "Noen ganger ønsker vi å integrere diskrete data for å finne et gjennomsnitt av data over et område. Forskjellen fra det vi har gjort tidligere er at vi ikke har en funksjon vi kan evaluere i vilkårlige nettverks-punkter. I stedet får vi oppgitt noen diskrete datapunkter og blir bedt om å beregne et gjennomsnitt over disse.\n",
    "\n",
    "Dette betyr i praksis at vi må beregne en endelig Riemann-sum. Dette brukes som et dobbeltintegral. I motsetning til situasjonen tidligere kan vi ikke (uten problemer eller å undersøke problemet nærmere) gå til grensen slik vi ville gjort i funksjonstilfellet.\n",
    "Likevel kan vi se dette som en forberedelse på nettbaserte metoder som vi senere skal bruke i kapitlet om partielle differensiallikninger.\n",
    "\n",
    "Vi har sett at gjennomsnittsverdi for en funksjon $f(x,y)$ er gitt som\n",
    "\n",
    "$$\\overline{f} = \\frac{1}{\\text{arealet til }D} \\iint_D f(x,y) dA$$\n",
    "\n",
    "I tidligere notater har vi sett på hvordan vi kan diskretisere funksjoner ved hjelp av Numpys mesh funksjon. \n",
    "Problemet vi skal nå kort se på hvordan vi kan håndtere diskret data. For eksempel hvis $f(x,y)=k$ er konstant, så gjelder \n",
    "\n",
    "$$\\overline{f} = \\frac{1}{\\text{arealet til }D} \\iint_D \\underbrace{f(x,y)}_{=k} dA = \\frac{1}{\\text{arealet til }D} \\cdot k \\cdot\\text{arealet til }D =k$$\n",
    "\n",
    "Mer generelt, hvis vi kan dele $D$ i områder $D=D_1\\cup D_2 \\cup \\ldots \\cup D_n, n\\in \\mathbb{N}$ slik at $f(x,y)=k_i$ er konstant på hver $D_i$ så gjelder\n",
    "$$\\iint_D f(x,y) dA = \\iint_{D_1}\\underbrace{f(x,y)}dA + \\cdots + \\iint_{D_n} f(x,y)dA =  k_1 \\cdot \\text{areal til } D_1 + \\cdots k_n \\cdot \\text{areal til } D_n    $$\n",
    "Dermed er for en funksjon som bare ta endelig mange verdier på $D$:\n",
    "$$ \\overline{f} = \\frac{1}{\\text{arealet til }D} \\iint_D f(x,y) dA = \\sum_i k_i \\frac{\\text{areal til }D_i}{\\text{areal til }D}$$"
   ]
  },
  {
   "cell_type": "code",
   "execution_count": null,
   "id": "f830ea22",
   "metadata": {},
   "outputs": [],
   "source": [
    "import numpy as np"
   ]
  },
  {
   "cell_type": "markdown",
   "id": "c8afa9f6",
   "metadata": {},
   "source": [
    "## Eksempel: Klimadata over Norge\n",
    "\n",
    "Et vanlig eksempel hvor vi ser på diskrete data er vær- og klimadata. Disse samles inn ved hjelp av målinger i noen steder i landet. Her ser vi på et eksempel nedbør kart fra ekstremvær \"Hans\" i Norge (kilde Wikipedia)"
   ]
  },
  {
   "cell_type": "markdown",
   "id": "80eef923",
   "metadata": {},
   "source": [
    "<img src=\"https://upload.wikimedia.org/wikipedia/commons/8/8f/Nedb%C3%B8r_mandag_7._august_2023.png\" alt=\"Nedbør mandag 7. august 2023\" width=\"800\"/>\n"
   ]
  },
  {
   "cell_type": "markdown",
   "id": "b8df38cc",
   "metadata": {},
   "source": [
    "Kart viser gjennomsnittlig nedbør over Sør-Norge. Kartet viser Vi kan lure nå om gjennomsnittlig nedbør i hele Sør-Norge på 07.08.2023 ifølge ekstremvær Hans. For dette må vi lage et rutenett over kartet.\n",
    "Det gjør vi slik: \n",
    "Plasser origo i det sørvestlige hjørnet av kartet slik at alle verdier kan betraktes som liggende i første kvadrant, og dermed er alle positive. Del deretter hele kartet inn i rektangler. Vi bruker har en oppdeling som ble lagd av satellitdata fra Copernikus Sentinel 2 satellit som vist nede. "
   ]
  },
  {
   "cell_type": "markdown",
   "id": "fd378d02",
   "metadata": {},
   "source": [
    "<img src=\"https://ec.europa.eu/eurostat/statistics-explained/images/c/cd/2018_NO_01_GG2023.jpg\" alt=\"Sentinel 2 satellitdata, indeling Norge\" width=\"800\"/>"
   ]
  },
  {
   "cell_type": "markdown",
   "id": "5ac9e1c4",
   "metadata": {},
   "source": [
    "Cellene i bildet over er 100km x 100km stor. Vi ignorerer for nå at de ligger over hverandre ved rand (vi lagger en tilnærming uansett. (OBS: Verden er ikke en kvadratisk overflate så det er ikke forundrelig at det er ikke mulig å plassere kvadrater uten overlapp pent på en kart av Norge). For å lage en tilnærming kan vi bruke de 16 celler som ligger i den 4x4 blokk dens sør-vest- hjørnet ligger fra andre cellen til venstre av den røde cellen. Hvis vi estimerer fra nedbør kartet gjennomsnittlig nedbør i celler får vi en matrise $ij$-indeks i matrisen tilsvarer plass til cellene i den 4x4 gitter. "
   ]
  },
  {
   "cell_type": "code",
   "execution_count": null,
   "id": "d878b643",
   "metadata": {},
   "outputs": [],
   "source": [
    "Kmatrise = np.array([[40, 40, 85, 65],[50, 75, 90, 20], [37, 52, 150, 60], [22,48,88,70]])\n",
    "Kmatrise"
   ]
  },
  {
   "cell_type": "markdown",
   "id": "f984f584",
   "metadata": {},
   "source": [
    "Siden alle celler er like stor (her akkurat $\\frac{1}{16}$), får vi fra formelen for middelverdien at \n",
    "$$\\text{gjennomsnittlig regnmengde} = \\frac{1}{16}\\sum_{i,j} Kmatrise_{ij}"
   ]
  },
  {
   "cell_type": "code",
   "execution_count": null,
   "id": "9180cc84",
   "metadata": {},
   "outputs": [],
   "source": [
    "gjen_regn = np.sum(Kmatrise)/16\n",
    "print('Gjennomsnittlig regnmengde i Sør-Norge ved ekstremvær Hans var ', gjen_regn, 'mm')"
   ]
  },
  {
   "cell_type": "markdown",
   "id": "f4644192",
   "metadata": {},
   "source": [
    "## Regn på kysten\n",
    "\n",
    "Under ekstremvær ble også regnmengden ved kysten målt. Hvis vi ser på celler som ligger vest til de celler vi har sett på finner vi celler ved kysten.\n",
    "Regnmålinger for disse celler sammler vi i listen:"
   ]
  },
  {
   "cell_type": "code",
   "execution_count": null,
   "id": "58c1e172",
   "metadata": {},
   "outputs": [],
   "source": [
    "regn_kysten = np.array([12,35,20,53])"
   ]
  },
  {
   "cell_type": "markdown",
   "id": "284ca19b",
   "metadata": {},
   "source": [
    "Vi kan enkelt utvide gjennomsnittlig regnmengde ved å bruke de celler i den nye listen i tillegg til det vi har. \n",
    "\n",
    "$$\\text{regn innlandet og kysten} = \\frac{1}{20}\\left(\\underbrace{\\sum_{i,j} \\text{Kmatrise}_{ij}}_{\\text{bidrag  innlandet}} + \\underbrace{\\sum_k \\text{regn-kysten}_k}_{\\text{kystens bidrag}}\\right)$$ \n",
    "\n",
    "\n",
    "Merk at vi trenger å oppdatere tallet av celler vi deler med siden vi har nå $20$ celler."
   ]
  },
  {
   "cell_type": "code",
   "execution_count": null,
   "id": "87362bbe",
   "metadata": {},
   "outputs": [],
   "source": [
    "gjen_regn_med_kyst = (np.sum(Kmatrise)+np.sum(regn_ved_kysten))/20\n",
    "print('Gjennomsnittlig regnmengde i Sør-Norge og kysten ved ekstremvær Hans var ', gjen_regn_med_kyst, 'mm')"
   ]
  },
  {
   "cell_type": "markdown",
   "id": "b7425628",
   "metadata": {},
   "source": [
    "De nye celler vi har tilføyet er ved kysten og inneholder dermed en god del hav hvor vi har ingen målinger siden målestasjoner ligger på land. \n",
    "Det er dermed ikke ønskelig å behandle disse celler som alle andre celler vi har allerede sett på siden de inneholder så mye hav.\n",
    "\n",
    "### Ide: Reduser andel av nye celler i resultatet!\n",
    "\n",
    "Når vi ser på kart er det maks 15% andel av land i enhver av cellene ved kysten. Dermed skulle bidrag til resultatet i disse cellene ikke overstige 15% av en full celle. \n",
    "Vi kan implementere det ved hjelp av å definere vekt til cellene:\n",
    "\n",
    "Så hvis cellene ved kysten vektes bare som 15% av en full land celle kan vi multiplisere verdien av cellen med $0.15$ for å korrigiere verdien i summen.\n",
    "\n",
    "OBS: Nå har vi 16 fulle celler og 4 celler som vektes hver med 15%. Dermed får vi ulike vekt for begge deler av summen. Se på følgende kode:"
   ]
  },
  {
   "cell_type": "code",
   "execution_count": null,
   "id": "b5c377b1",
   "metadata": {},
   "outputs": [],
   "source": [
    "gjen_regn_korrigert_kyst = (np.sum(Kmatrise)+.15*np.sum(regn_ved_kysten))/(16+4*0.15)\n",
    "print('Gjennomsnittlig regnmengde i Sør-Norge og kysten ved ekstremvær Hans var ', gjen_regn_korrigert_kyst, 'mm')"
   ]
  },
  {
   "cell_type": "markdown",
   "id": "fc89137e",
   "metadata": {},
   "source": [
    "## Sammenlikning av resultater\n",
    "Tabellen nede viser sammenlikning av resultater."
   ]
  },
  {
   "cell_type": "code",
   "execution_count": null,
   "id": "ee02c079",
   "metadata": {},
   "outputs": [],
   "source": [
    "from tabulate import tabulate\n",
    "\n",
    "# Data to display\n",
    "headers = [\"Beregning for \", \"Gjennomsnittlig regn (mm)\"]\n",
    "data = [\n",
    "    [\"Innlandet uten kysten\", gjen_regn],\n",
    "    [\"Innlandet oh kysten\", gjen_regn_med_kyst],\n",
    "    [\"Innlandet og kyst korrigert\", gjen_regn_korrigert_kyst]\n",
    "]\n",
    "\n",
    "# Display the table\n",
    "print(tabulate(data, headers=headers, tablefmt=\"grid\"))"
   ]
  },
  {
   "cell_type": "markdown",
   "id": "5d6777d2",
   "metadata": {},
   "source": [
    "## Hvordan kan vi implementere det mer konsepsjonelt?\n",
    "\n",
    "VI har endret hvor mye en celle bidrar i siste beregning men har bare skillet to tilfeller:\n",
    "1. Cellen er i innlandet\n",
    "2. Cellen er ved kysten\n",
    "\n",
    "Det kan godt være at vi ønsker å vekte cellene ulikt fordi di bidra ulik og vi har for hver cellen sin egen vekt som implementerer det.\n",
    "I dette tilfelle blir det fort tungvint å implementere beregning på den måten vi har gjort:\n",
    "\n",
    "$$\\frac{1}{20}\\left(\\underbrace{\\sum_{i,j} \\text{Kmatrise}_{ij}}_{\\text{bidrag  innlandet}} + \\underbrace{\\sum_k \\text{regn-kysten}_k}_{\\text{kystens bidrag}}\\right)$$\n",
    "\n",
    "Det vi egentlig vil er å beregne for hver celle\n",
    "\n",
    "$$\\text{verdi i cellen} \\cdot \\text{ vekt av cellen}$$\n",
    "\n",
    "oppsummerer disse og dele med summen av vektene. Formelen blir der\n",
    "\n",
    "$$\\text{gjennomsnittlig regnmengde} = \\frac{1}{\\text{summen av vekter}}\\sum_{celler} \\text{verdi i cellen} \\cdot \\text{vekt av cellen}$$\n"
   ]
  },
  {
   "cell_type": "code",
   "execution_count": null,
   "id": "2a26edb2",
   "metadata": {},
   "outputs": [],
   "source": [
    "vekter_kysten = np.array([.15, .15, .15,.15])\n",
    "vekter_innlandet = np.ones((4,4)) "
   ]
  },
  {
   "cell_type": "code",
   "execution_count": null,
   "id": "458bd5f0",
   "metadata": {},
   "outputs": [],
   "source": [
    "gjen_regn = (np.sum(vekter_kysten * regn_kysten) + np.sum(vekter_innlandet * Kmatrise))/(np.sum(vekter_kysten)+np.sum(vekter_innlandet))\n",
    "print(gjen_regn)"
   ]
  },
  {
   "cell_type": "markdown",
   "id": "3e5cc8c1",
   "metadata": {},
   "source": [
    "Resultatet er det samme som tidligere, men vi kna nå enkelt endre noen av de vektene for å endre hvordan en celle bidrar (uten at vi må tilpasse noe annet i koden).\n",
    "\n",
    "For eksempel, hvis den siste kystcellen bidrar enda mindre (fordi landmasse i cellen er mindre enn 5%), så kan vi enkelt endre verdien til vekt for å beregne gjennomsnittsverdien på nytt."
   ]
  },
  {
   "cell_type": "code",
   "execution_count": null,
   "id": "4fdb8c86",
   "metadata": {},
   "outputs": [],
   "source": [
    "vekter_kysten[3]=.05\n",
    "print(vekter_kysten)"
   ]
  },
  {
   "cell_type": "code",
   "execution_count": null,
   "id": "ca2e9955",
   "metadata": {},
   "outputs": [],
   "source": [
    "regn_ny= (np.sum(vekter_kysten * regn_kysten) + np.sum(vekter_innlandet * Kmatrise))/(np.sum(vekter_kysten)+np.sum(vekter_innlandet))\n",
    "print('Gjennomsnittlig regnmengde ved ekstremvær Hans, nye vekt, var ', regn_ny, 'mm')"
   ]
  },
  {
   "cell_type": "markdown",
   "id": "11f0c265",
   "metadata": {},
   "source": [
    "## TODO: Hvordan kan vi gå videre med resultatene\n",
    "\n",
    "- Endre vekt for de andre celler for å unngå dobbeltelling pga overlapp. For dobbelt areal kan vi istedet bruke lineær interpolasjon mellom cellene"
   ]
  },
  {
   "cell_type": "code",
   "execution_count": null,
   "id": "aa6e460c",
   "metadata": {},
   "outputs": [],
   "source": []
  }
 ],
 "metadata": {
  "kernelspec": {
   "display_name": "base",
   "language": "python",
   "name": "python3"
  },
  "language_info": {
   "codemirror_mode": {
    "name": "ipython",
    "version": 3
   },
   "file_extension": ".py",
   "mimetype": "text/x-python",
   "name": "python",
   "nbconvert_exporter": "python",
   "pygments_lexer": "ipython3",
   "version": "3.9.12"
  }
 },
 "nbformat": 4,
 "nbformat_minor": 5
}
