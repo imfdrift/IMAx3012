{
 "cells": [
  {
   "cell_type": "markdown",
   "id": "0ed676a8",
   "metadata": {},
   "source": []
  },
  {
   "cell_type": "markdown",
   "id": "a4f74c58",
   "metadata": {},
   "source": [
    "# Integrasjon av diskrete verdier ved inndeling i celler\n",
    "\n",
    "Noen ganger ønsker vi å integrere diskrete data for å finne et gjennomsnitt av data over et område. Forskjellen fra det vi har gjort tidligere er at vi ikke har en funksjon vi kan evaluere i vilkårlige nettverks-punkter. I stedet får vi oppgitt noen diskrete datapunkter og blir bedt om å beregne et gjennomsnitt over disse.\n",
    "\n",
    "Dette betyr i praksis at vi må beregne en endelig Riemann-sum. Dette brukes som et dobbeltintegral. I motsetning til situasjonen tidligere kan vi ikke (uten problemer eller å undersøke problemet nærmere) gå til grensen slik vi ville gjort i funksjonstilfellet.\n",
    "Likevel kan vi se dette som en forberedelse på nettbaserte metoder som vi senere skal bruke i kapitlet om partielle differensiallikninger.\n",
    "\n",
    "Vi har sett at gjennomsnittsverdi for en funksjon $f(x,y)$ er gitt som\n",
    "\n",
    "$$\\overline{f} = \\frac{1}{\\text{arealet til }D} \\iint_D f(x,y) dA$$\n",
    "\n",
    "I tidligere notater har vi sett på hvordan vi kan diskretisere funksjoner ved hjelp av Numpys mesh funksjon. \n",
    "Problemet vi skal nå kort se på hvordan vi kan håndtere diskret data. For eksempel hvis $f(x,y)=k$ er konstant, så gjelder \n",
    "\n",
    "$$\\overline{f} = \\frac{1}{\\text{arealet til }D} \\iint_D \\underbrace{f(x,y)}_{=k} dA = \\frac{1}{\\text{arealet til }D} \\cdot k \\cdot\\text{arealet til }D =k$$\n",
    "\n",
    "Mer generelt, hvis vi kan dele $D$ i områder $D=D_1\\cup D_2 \\cup \\ldots \\cup D_n, n\\in \\mathbb{N}$ slik at $f(x,y)=k_i$ er konstant på hver $D_i$ så gjelder\n",
    "$$\\iint_D f(x,y) dA = \\iint_{D_1}\\underbrace{f(x,y)}dA + \\cdots + \\iint_{D_n} f(x,y)dA =  k_1 \\cdot \\text{areal til } D_1 + \\cdots k_n \\cdot \\text{areal til } D_n    $$\n",
    "Dermed er for en funksjon som bare ta endelig mange verdier på $D$:\n",
    "$$ \\overline{f} = \\frac{1}{\\text{arealet til }D} \\iint_D f(x,y) dA = \\sum_i k_i \\frac{\\text{areal til }D_i}{\\text{areal til }D}$$"
   ]
  },
  {
   "cell_type": "code",
   "execution_count": null,
   "id": "f830ea22",
   "metadata": {},
   "outputs": [],
   "source": [
    "import numpy as np"
   ]
  },
  {
   "cell_type": "markdown",
   "id": "c8afa9f6",
   "metadata": {},
   "source": [
    "## Eksempel: Klimadata over Norge\n",
    "\n",
    "Et vanlig eksempel hvor vi ser på diskrete data er vær- og klimadata. Disse samles inn ved hjelp av målinger i noen steder i landet. Her ser vi på et eksempel nedbør kart fra ekstremvær \"Hans\" i Norge (kilde Wikipedia)"
   ]
  },
  {
   "cell_type": "markdown",
   "id": "80eef923",
   "metadata": {},
   "source": [
    "<img src=\"https://upload.wikimedia.org/wikipedia/commons/8/8f/Nedb%C3%B8r_mandag_7._august_2023.png\" alt=\"Nedbør mandag 7. august 2023\" width=\"800\"/>\n"
   ]
  },
  {
   "cell_type": "markdown",
   "id": "b8df38cc",
   "metadata": {},
   "source": [
    "Kart viser gjennomsnittlig nedbør over Sør-Norge. Kartet viser Vi kan lure nå om gjennomsnittlig nedbør i hele Sør-Norge på 07.08.2023 ifølge ekstremvær Hans. For dette må vi lage et rutenett over kartet.\n",
    "Det gjør vi slik: \n",
    "Plasser origo i det sørvestlige hjørnet av kartet slik at alle verdier kan betraktes som liggende i første kvadrant, og dermed er alle positive. Del deretter hele kartet inn i rektangler. Vi bruker har en oppdeling som ble lagd av satellitdata fra Copernikus Sentinel 2 satellit som vist nede. "
   ]
  },
  {
   "cell_type": "markdown",
   "id": "fd378d02",
   "metadata": {},
   "source": [
    "<img src=\"https://ec.europa.eu/eurostat/statistics-explained/images/c/cd/2018_NO_01_GG2023.jpg\" alt=\"Sentinel 2 satellitdata, indeling Norge\" width=\"800\"/>"
   ]
  },
  {
   "cell_type": "markdown",
   "id": "5ac9e1c4",
   "metadata": {},
   "source": [
    "Cellene i bildet over er 100km x 100km stor. Vi ignorerer at de ligger over hverandre ved rand (vi lagger en tilnærming uansett. For å lage en tilnærming kan vi bruke de 16 celler som ligger i den 4x4 blokk dens sør-vest- hjørnet ligger fra andre cellen til venstre av den røde cellen. Hvis vi estimerer fra nedbør kartet gjennomsnittlig nedbør i celler får vi en matrise $ij$-indeks i matrisen tilsvarer plass til cellene i den 4x4 gitter. "
   ]
  },
  {
   "cell_type": "code",
   "execution_count": null,
   "id": "d878b643",
   "metadata": {},
   "outputs": [],
   "source": [
    "Kmatrise = np.array([[40, 40, 85, 65],[50, 75, 90, 20], [37, 52, 150, 60], [22,48,88,70]])\n",
    "Kmatrise"
   ]
  },
  {
   "cell_type": "markdown",
   "id": "f984f584",
   "metadata": {},
   "source": [
    "Siden alle celler er like stor (her akkurat $\\frac{1}{16}$), får vi fra formelen for middelverdien at \n",
    "$$\\text{gjennomsnittlig regnmengde} = \\frac{1}{16}\\sum_{i,j} koeff_matrise_{ij}"
   ]
  },
  {
   "cell_type": "code",
   "execution_count": null,
   "id": "9180cc84",
   "metadata": {},
   "outputs": [],
   "source": [
    "gjen_regn = np.sum(Kmatrise)/16\n",
    "print('Gjennomsnittlig regnmengde i Sør-Norge ved ekstremvær Hans var ', gjen_regn, 'mm')"
   ]
  },
  {
   "cell_type": "markdown",
   "id": "11f0c265",
   "metadata": {},
   "source": [
    "## Hvordan kan vi gå videre med resultatene\n",
    "\n",
    "- Inkluder mer celler.\n",
    "- Varieer vekt til cellene (for eksemepel cellene på vestkanten kunne vektes siden de har veldig lite \"land\")\n",
    "- Endre vekt for de andre celler for å unngå dobbeltelling pga overlapp. For dobbelt areal kan vi istedet bruke lineær interpolasjon mellom cellene"
   ]
  },
  {
   "cell_type": "code",
   "execution_count": null,
   "id": "aa6e460c",
   "metadata": {},
   "outputs": [],
   "source": []
  }
 ],
 "metadata": {
  "kernelspec": {
   "display_name": "base",
   "language": "python",
   "name": "python3"
  },
  "language_info": {
   "codemirror_mode": {
    "name": "ipython",
    "version": 3
   },
   "file_extension": ".py",
   "mimetype": "text/x-python",
   "name": "python",
   "nbconvert_exporter": "python",
   "pygments_lexer": "ipython3",
   "version": "3.9.12"
  }
 },
 "nbformat": 4,
 "nbformat_minor": 5
}
