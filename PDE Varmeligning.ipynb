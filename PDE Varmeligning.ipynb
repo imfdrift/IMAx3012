{
 "cells": [
  {
   "cell_type": "markdown",
   "metadata": {},
   "source": [
    "<!-- dom:TITLE: Varmeligning og differansemetoder. -->\n",
    "# Varmeligning og differansemetoder.\n",
    "<!-- dom:AUTHOR: Anne Kværnø, modified by André Massing -->\n",
    "<!-- Author: -->  \n",
    "**Anne Kværnø, modified by André Massing, A. Schmeding**\n",
    "\n",
    "Date: **Jun 18, 2025**\n",
    "\n",
    "Last inn nødvendige moduler"
   ]
  },
  {
   "cell_type": "code",
   "execution_count": null,
   "metadata": {},
   "outputs": [],
   "source": [
    "%matplotlib inline\n",
    "\n",
    "import numpy as np\n",
    "from numpy import pi\n",
    "from numpy.linalg import solve, norm    \n",
    "import matplotlib.pyplot as plt\n",
    "\n",
    "# Use a funny plotting style\n",
    "plt.xkcd()\n",
    "newparams = {'figure.figsize': (6.0, 6.0), 'axes.grid': True,\n",
    "             'lines.markersize': 8, 'lines.linewidth': 2,\n",
    "             'font.size': 14}\n",
    "plt.rcParams.update(newparams)"
   ]
  },
  {
   "cell_type": "markdown",
   "metadata": {},
   "source": [
    "# Introduction\n",
    "In this note the finite difference method for solving partial differential equations\n",
    "(PDEs) will be presented. \n",
    "\n",
    "Roughly speaking, a finite difference method is composed by the following steps: \n",
    "1. Discretize the domain on which the equation is defined.  \n",
    "\n",
    "2. On each grid point, replace the derivatives with an approximation, using the values in neighbouring grid points. \n",
    "\n",
    "3. Replace the exact solutions by its approximations.\n",
    "\n",
    "4. Solve the resulting system of equations. \n",
    "\n",
    "We will first see how to find approximations to the\n",
    "derivative of a function, and then how this can be used to solve boundary value\n",
    "problems like"
   ]
  },
  {
   "cell_type": "markdown",
   "metadata": {},
   "source": [
    "# Varmeligning\n",
    "\n",
    "I denne seksjonen skal vi se hvordan man kan løse varmeligningen ved hjelp av endelige differansemetoder. Det bør imidlertid understrekes at strategiene gjelder for mange tidsavhengige PDE-er — varmeligningen er bare et eksempel.\n",
    "\n",
    "Husk varmeligningen i 1D:"
   ]
  },
  {
   "cell_type": "markdown",
   "metadata": {},
   "source": [
    "$$\n",
    "\\begin{align*}\n",
    "  u_t & = u_{xx}, && 0 \\leq x \\leq 1 \\\\ \n",
    "  u(0,t) &=g_0(t), \\quad u(1,t)=g_1(t), && \\text{Rand betringelser} \\\\ \n",
    "  u(x,0) &= f(x) && \\text{Initial betingelser}\n",
    "\\end{align*}\n",
    "$$"
   ]
  },
  {
   "cell_type": "markdown",
   "metadata": {},
   "source": [
    "Ligningen løses fra $t=0$ til $t=t_{end}$. \n",
    "\n",
    "## Semi-diskretisering\n",
    "\n",
    "Vi ser nå på en teknikk som kombinerer diskretisering av randverdiproblemer, med teknikker for løsning av ordinære differensialligninger.\n",
    "\n",
    "Ideen er som følger\n",
    "\n",
    "**Steg 1:**\n",
    "Lag en diskretisering av intervalet i $x$-retning. Velg $M$ og la $\\Delta x=1/M$ (siden vi jobber med interval $[0,1]$) og gitter punkter $x_i=i\\Delta x$, $i=0,1,\\dotsc,M$. \n",
    "\n",
    "Husk at for hver puntk $x_i$ løsningen $u(x_i,t)$ er en funksjon i $t$. \n",
    "\n",
    "**Steg 2:**\n",
    "Fikser et tidspunkt $t$, og diskretiser høyre side av PDE-en. Bruk sentrale differanser for å approksimere $u_{xx}$, det gir oss"
   ]
  },
  {
   "cell_type": "markdown",
   "metadata": {},
   "source": [
    "$$\n",
    "\\frac{\\partial u}{\\partial t}(x_i,t) =\n",
    "\\frac{u(x_{i+1},t)-2u(x_i,t)+u(x_{i-1},t)}{\\Delta x^2}.\n",
    "$$"
   ]
  },
  {
   "cell_type": "markdown",
   "metadata": {},
   "source": [
    "**Steg 3:** \n",
    "Bytt $u(x_i,t)$ wimed approksimasjonen $U_i(t)$ i formelen. Dette gir oss"
   ]
  },
  {
   "cell_type": "markdown",
   "metadata": {},
   "source": [
    "$$\n",
    "U'_i(t) = \\frac{U_{i+1}(t) - 2 U_i(t) + U_{i-1}(t)}{\\Delta x^2}, \\qquad i=1,2,\\dotsc,M-1,\n",
    "$$"
   ]
  },
  {
   "cell_type": "markdown",
   "metadata": {},
   "source": [
    "med $U'_i(t) = dU_i(t)/dt$. \n",
    "Sammen med rand betingelser $U_0(t)=g_0(t)$, $U_M(t)=g_1(t)$ og intial betingelser $U_i(0) = f(x_i)$, $i=0,1,\\dotsc,M$ får vi et system av ordinære differensialligninger\n",
    "\n",
    "Systemet kalles vanligvis en *semi-diskretisering* av PDE-en. \n",
    "\n",
    "**Steg 4:**\n",
    "Løs ODE-er med en numerisk metode. \n",
    "\n",
    "Vi bruker her eksplisitt Euler metode med steglengde $\\Delta t$ for ODE-ene:"
   ]
  },
  {
   "cell_type": "markdown",
   "metadata": {},
   "source": [
    "$$\n",
    "U_{i}^{n+1} = U_{i}^n + r \\big(\\; U_{i+1}^n - 2U_{i}^n\n",
    "+ U_{i-1}^n\\; \\big), \\quad i=1,2,\\dotsc,M-1, \\qquad \\text{med } r = \\frac{\\Delta t}{\\Delta x^2}.\n",
    "$$"
   ]
  },
  {
   "cell_type": "markdown",
   "metadata": {},
   "source": [
    "Dermed $U_i^n \\approx u(x_i,t_n)$ hvor $t_n=n\\Delta t$, og for å skille indekser som representerer tid og rom bruker vi tidsindeks $n$ som superscripts. \n",
    "\n",
    "La oss teste algoritmen i to eksempler.\n",
    "\n",
    "**Numerisk eksempel 1:** \n",
    "Løs varmeligning $u_t=u_{xx}$ på intervalet $0<t<1$ slik at:"
   ]
  },
  {
   "cell_type": "markdown",
   "metadata": {},
   "source": [
    "$$\n",
    "\\begin{align*}\n",
    "u(x,0) & = \\sin(\\pi x), && \\text{Initial verdi} \\\\ \n",
    "g_0(t) & =g_1(t)=0. && \\text{Rand betingelse}\n",
    "\\end{align*}\n",
    "$$"
   ]
  },
  {
   "cell_type": "markdown",
   "metadata": {},
   "source": [
    "Bruk steglengde $\\Delta t=1/N$ og $\\Delta x=1/M$. \n",
    "\n",
    "Eksakt løsning til problemet er gitt som"
   ]
  },
  {
   "cell_type": "markdown",
   "metadata": {},
   "source": [
    "$$\n",
    "u(x,t) = e^{-\\pi^2t}\\sin(\\pi x).\n",
    "$$"
   ]
  },
  {
   "cell_type": "markdown",
   "metadata": {},
   "source": [
    "**Numerisk eksempel 2:**\n",
    "Gjenta eksempel 1, men med intial verdier"
   ]
  },
  {
   "cell_type": "markdown",
   "metadata": {},
   "source": [
    "$$\n",
    "u(x,0) = \\left\\{ \\begin{array}{ll} 2x & 0 \\leq x \\leq 0.5, \\\\ 2(1-x) & 0.5 < x\\leq 2-2x, \n",
    "\\end{array} \\right.\n",
    "$$"
   ]
  },
  {
   "cell_type": "markdown",
   "metadata": {},
   "source": [
    "For dette gir vi ikke en eksakt løsning.\n",
    "\n",
    "Kjør koden nede med \n",
    "1. $M=4$, $N=20$.\n",
    "\n",
    "2. $M=8$, $N=40$.\n",
    "\n",
    "3. $M=16$, $N=80$. \n",
    "\n",
    "Begge initialverdier er implementert. \n",
    "\n",
    "## Implementering\n",
    "\n",
    "WFørst lager vi en funksjon som plotter løsningen."
   ]
  },
  {
   "cell_type": "code",
   "execution_count": null,
   "metadata": {},
   "outputs": [],
   "source": [
    "def plot_heat_solution(x, t, U, txt='Solution'):\n",
    "    # Help function\n",
    "    # Plot the solution of the heat equation\n",
    "    fig = plt.figure()\n",
    "    ax = fig.gca(projection='3d')\n",
    "    T, X = np.meshgrid(t,x)\n",
    "    # ax.plot_wireframe(T, X, U)\n",
    "    ax.plot_surface(T, X, U, cmap=plt.cm.coolwarm)\n",
    "    ax.view_init(azim=30)              # Rotate the figure\n",
    "    plt.xlabel('t')\n",
    "    plt.ylabel('x')\n",
    "    plt.title(txt);"
   ]
  },
  {
   "cell_type": "markdown",
   "metadata": {},
   "source": [
    "Definer problemet, med intiial og rand betingelser."
   ]
  },
  {
   "cell_type": "code",
   "execution_count": null,
   "metadata": {},
   "outputs": [],
   "source": [
    "    # Define the problem\n",
    "\n",
    "    # Initial condition\n",
    "    def f1(x):               # Example 1\n",
    "        return np.sin(pi*x)\n",
    "\n",
    "    def f2(x):               # Example 2\n",
    "        y = 2*x\n",
    "        y[x>0.5] = 2-2*x[x>0.5]\n",
    "        return y\n",
    "\n",
    "    f = f1\n",
    "    \n",
    "    # Boundary conditions\n",
    "    def g0(t):\n",
    "        return 0\n",
    "    def g1(t):\n",
    "        return 0"
   ]
  },
  {
   "cell_type": "markdown",
   "metadata": {},
   "source": [
    "Hoveddel av koden er:"
   ]
  },
  {
   "cell_type": "code",
   "execution_count": null,
   "metadata": {},
   "outputs": [],
   "source": [
    "# Solve the heat equation by a forward difference in time (forward Euler)\n",
    "#\n",
    "M = 4                   # Number of intervals in the x-direction\n",
    "Dx = 1/M\n",
    "x = np.linspace(0,1,M+1)   # Gridpoints in the x-direction\n",
    "\n",
    "tend = 0.5\n",
    "N = 20                  #  Number of intervals in the t-direction\n",
    "Dt = tend/N\n",
    "t = np.linspace(0,tend,N+1) # Gridpoints in the t-direction\n",
    "\n",
    "# Array to store the solution\n",
    "U = np.zeros((M+1,N+1))\n",
    "U[:,0] = f(x)              # Initial condition U_{i,0} = f(x_i)\n",
    "\n",
    "r = Dt/Dx**2                \n",
    "print('r =',r)\n",
    "\n",
    "# Main loop \n",
    "for n in range(N):\n",
    "    U[1:-1, n+1] = U[1:-1,n] + r*(U[2:,n]-2*U[1:-1,n]+U[0:-2,n])  \n",
    "    U[0, n+1] = g0(t[n+1])\n",
    "    U[M, n+1] = g1(t[n+1])"
   ]
  },
  {
   "cell_type": "code",
   "execution_count": null,
   "metadata": {},
   "outputs": [],
   "source": [
    "# Plot the numerical solution\n",
    "plot_heat_solution(x, t, U)"
   ]
  },
  {
   "cell_type": "code",
   "execution_count": null,
   "metadata": {},
   "outputs": [],
   "source": [
    "# Plot the error from example 1\n",
    "def u_exact(x,t):\n",
    "    return np.exp(-pi**2*t)*np.sin(pi*x)\n",
    "T, X = np.meshgrid(t, x)\n",
    "error = u_exact(X, T) - U\n",
    "plot_heat_solution(x, t, error, txt='Error')\n",
    "print('Maximum error: {:.3e}'.format(max(abs(error.flatten()))))       # Maksimal feil over hele arrayet"
   ]
  },
  {
   "cell_type": "markdown",
   "metadata": {},
   "source": [
    "Løsning er stabil for $M=4$, $N=20$, og ikke stabil for $M=16$, $N=80$. \n",
    "Hvorfor?  \n",
    "\n",
    "## Bonus: Stability analysis\n",
    "\n",
    "The semi-discretized system"
   ]
  },
  {
   "cell_type": "markdown",
   "metadata": {},
   "source": [
    "$$\n",
    "\\dot{U}_i(t) = \\frac{U_{i+1}(t) - 2 U_i(t) + U_{i-1}(t)}{\\Delta x^2}, \\qquad i=1,2,\\dotsc,M-1, \\qquad U_0(t)=g_0(t), \\qquad U_M(t)=g_1(t),\n",
    "$$"
   ]
  },
  {
   "cell_type": "markdown",
   "metadata": {},
   "source": [
    "is a linear ordinary differential equation:"
   ]
  },
  {
   "cell_type": "markdown",
   "metadata": {},
   "source": [
    "$$\n",
    "\\dot{\\mathbf{U}} =  \\frac{1}{\\Delta x^2}\\big( A \\mathbf{U} + \\mathbf{g}(t)\\big),\n",
    "$$"
   ]
  },
  {
   "cell_type": "markdown",
   "metadata": {},
   "source": [
    "where"
   ]
  },
  {
   "cell_type": "markdown",
   "metadata": {},
   "source": [
    "$$\n",
    "\\mathbf{U} = \\left(\\begin{array}{c} U_1 \\\\ U_2 \\\\ \\vdots \\\\ U_{M-1} \\end{array} \\right), \\qquad\n",
    "A = \\left(\\begin{array}{cccc}\n",
    "      -2 & 1 & \\\\ \n",
    "      1 & \\ddots & \\ddots \\\\ \n",
    "        &  \\ddots & \\ddots & 1 \\\\ \n",
    "        &  & 1 & -2\n",
    "    \\end{array}\\right)\n",
    "\\qquad \\text{and} \\qquad\n",
    "\\mathbf{g}(t) = \\left(\\begin{array}{c} g_0(t) \\\\ 0 \\\\ \\vdots \\\\ 0 \\\\ g_1(t) \\end{array} \\right)\n",
    "$$"
   ]
  },
  {
   "cell_type": "markdown",
   "metadata": {},
   "source": [
    "Stability requirements for such problems were discussed in the note on stiff ordinary differential equation. We proved there that the stability depends on the eigenvalues $\\lambda_k$ of the matrix $\\frac{1}{\\Delta x^2}A$. For the forward Euler method, it was proved that the step size has to chosen such that $-2 \\leq \\Delta t \\lambda_k \\leq 0$ for all $\\lambda_k$. Otherwise, the numerical solution will be unstable.\n",
    "\n",
    "It is possible to prove that the eigenvalues of the matrix $A$ is given by"
   ]
  },
  {
   "cell_type": "markdown",
   "metadata": {},
   "source": [
    "$$\n",
    "\\lambda_k = -4\\sin^2 \\big( \\frac{k\\pi}{M}\\big), \\qquad k=1,\\cdots,M-1.\n",
    "$$"
   ]
  },
  {
   "cell_type": "markdown",
   "metadata": {},
   "source": [
    "So all the eigenvalues $\\lambda_k$ of $\\frac{1}{\\Delta x^2}A$ satisfy"
   ]
  },
  {
   "cell_type": "markdown",
   "metadata": {},
   "source": [
    "$$\n",
    "-\\frac{4}{\\Delta x^2} < \\lambda _k < 0.\n",
    "$$"
   ]
  },
  {
   "cell_type": "markdown",
   "metadata": {},
   "source": [
    "The numerical solution is stable if $\\Delta t < -2/\\lambda_k$ for all $k$, that means whenever"
   ]
  },
  {
   "cell_type": "markdown",
   "metadata": {},
   "source": [
    "$$\n",
    "r = \\frac{\\Delta t}{\\Delta x^2} \\leq \\frac{1}{2}.\n",
    "$$"
   ]
  },
  {
   "cell_type": "markdown",
   "metadata": {},
   "source": [
    "**Exercise:**\n",
    "Repeat the two experiments above (for the two different initial values) to justify the bound above.  \n",
    "Use $M=16$, and in each case find the corresponding $r$ and observe from the experiments whether the solution is stable or not. \n",
    "\n",
    "1. Let $N=256$.\n",
    "\n",
    "2. Let $N=128$.  \n",
    "\n",
    "3. Let $N=250$. \n",
    "\n",
    "In the last case, it seems like the metod is unstable for the first initial value, and unstable for the second. Do you have any idea why? (Both solutions will be unstable if integrated over a longer time periode). \n",
    "\n",
    "\n",
    "## Implicit methods\n",
    "\n",
    "The semi-discretized system is an example of a stiff ODE, which can only be handled reasonable efficiently by $A(0)$-stable methods, like implicit Euler or the trapezoidal rule. "
   ]
  }
 ],
 "metadata": {
  "kernelspec": {
   "display_name": "base",
   "language": "python",
   "name": "python3"
  },
  "language_info": {
   "codemirror_mode": {
    "name": "ipython",
    "version": 3
   },
   "file_extension": ".py",
   "mimetype": "text/x-python",
   "name": "python",
   "nbconvert_exporter": "python",
   "pygments_lexer": "ipython3",
   "version": "3.9.12"
  }
 },
 "nbformat": 4,
 "nbformat_minor": 4
}
