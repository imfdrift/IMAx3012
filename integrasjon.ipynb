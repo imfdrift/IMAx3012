{
 "cells": [
  {
   "cell_type": "markdown",
   "id": "30416ca2",
   "metadata": {},
   "source": [
    "# Python for modulen \"integrasjon\"\n"
   ]
  },
  {
   "cell_type": "markdown",
   "id": "05343f5c",
   "metadata": {},
   "source": [
    "# Gittermetode\n",
    "\n",
    "Vi gir en enkel numerisk metode hvor vi legger et gitter over integrasjonsområdet, regner ut funksjonsverdier og summerer. \n",
    "\n",
    "La $f(x,y)=\\cos(x\\cdot y)$. Vi regner ut $$\\displaystyle{\\iint_R f(x,y)\\; dA}$$ for rektangelet \n",
    "$$R = \\{(x,y)\\in \\mathbb{R}^2 | -1 \\leq x < 1 \\text{ og } 0 \\leq y < 2\\}.$$"
   ]
  },
  {
   "cell_type": "code",
   "execution_count": null,
   "id": "3aa77103",
   "metadata": {},
   "outputs": [],
   "source": [
    "import numpy as np\n",
    "\n",
    "# Arealelementene\n",
    "dx = 0.001\n",
    "dy = 0.001\n",
    "dA = dx*dy # areal av et lite arealelement\n",
    "\n",
    "# Gitterpunkter\n",
    "x = np.arange(-1.0, 1.0, dx)\n",
    "y = np.arange( 0.0, 2.0, dy)\n",
    "px,py = np.meshgrid(x,y) \n",
    "\n",
    "# Integrasjon\n",
    "result = np.sum(np.cos(px*py)*dA)\n",
    "\n",
    "print(result)"
   ]
  },
  {
   "cell_type": "markdown",
   "id": "5ff7b2e3",
   "metadata": {},
   "source": [
    "Vi regner ut $$\\displaystyle{\\iint_D \\sin(x+y)\\; dA }$$ for den kvarte disken $D = \\{(x,y)\\in \\mathbb{R}^2\\; |\\; x^2+y^2\\leq 1, x\\geq 0, y\\geq 0\\}$. Vi regner over et rektangel men ignorerer punkter som ligger utenfor disken."
   ]
  },
  {
   "cell_type": "code",
   "execution_count": null,
   "id": "a68cdd51",
   "metadata": {},
   "outputs": [],
   "source": [
    "import numpy as np\n",
    "\n",
    "# Arealelementet\n",
    "dx = 0.001\n",
    "dy = 0.001\n",
    "dA = dx*dy\n",
    "\n",
    "# Gitteret\n",
    "x = np.arange(0, 1, dx)\n",
    "y = np.arange(0, 1, dy)\n",
    "px,py = np.array(np.meshgrid(x,y))\n",
    "\n",
    "# funksjonen\n",
    "f = lambda x,y : np.sin(x+y) if x*x+y*y <= 1 else 0\n",
    "f = np.vectorize(f)\n",
    "\n",
    "# integrasjonen\n",
    "result = np.sum(f(px,py)*dA)\n",
    "print(result)"
   ]
  },
  {
   "cell_type": "markdown",
   "id": "642e5f07",
   "metadata": {},
   "source": [
    "# Scipy sin integrasjonsfunksjoner\n",
    "\n",
    "Utregning av integralet $$\\displaystyle{\\int_c^d\\int_{a(x)}^{b(x)} f(x,y)\\; dx\\; dy}$$"
   ]
  },
  {
   "cell_type": "code",
   "execution_count": null,
   "id": "b35cecf4",
   "metadata": {},
   "outputs": [],
   "source": [
    "import numpy as np\n",
    "from scipy import integrate\n",
    "\n",
    "f = lambda y, x : x*y\n",
    "a = lambda x : x\n",
    "b = lambda x : np.sqrt(x)\n",
    "c = 0\n",
    "d = 1\n",
    "\n",
    "result = integrate.dblquad(f, c, d, a, b)\n",
    "\n",
    "print(type(result))\n",
    "print(result[0]) # value of the integral\n",
    "print(result[1]) # estimate of error\n",
    "\n"
   ]
  },
  {
   "cell_type": "markdown",
   "id": "219ba745",
   "metadata": {},
   "source": [
    "Utregning av integralet $$\\displaystyle{\\int_e^f \\int_{c(x)}^{d(x)} \\int_{a(x,y)}^{b(x,y)}} g(x,y,z)\\; dx\\; dy\\; dz$$"
   ]
  },
  {
   "cell_type": "code",
   "execution_count": null,
   "id": "6a34ac14",
   "metadata": {},
   "outputs": [],
   "source": [
    "import numpy as np\n",
    "from scipy import integrate\n",
    "\n",
    "g = lambda x,y,z : x*y*z\n",
    "a = lambda x,y : 0\n",
    "b = lambda x,y : x + y\n",
    "c = lambda x : 0\n",
    "d = lambda x : x*x\n",
    "e = 0\n",
    "f = 1\n",
    "\n",
    "result = integrate.tplquad(g, e,f, c,d, a,b)\n",
    "\n",
    "print(type(result))\n",
    "print(result[0])  # value of the integral\n",
    "print(result[1])  # estimate of the error\n",
    "\n",
    "\n"
   ]
  },
  {
   "cell_type": "markdown",
   "id": "cbe71ee6",
   "metadata": {},
   "source": [
    "# Utregning over omtråder gitt ved likninger\n",
    "\n",
    "Vi kan regne ved å integrere over større områder og forkaste verdier som ikke\n",
    "skal brukes (men Python protesterer når vi gjør dette - så vær forsiktig).\n",
    "\n",
    "Her regner vi ut integralet $$\\displaystyle{\\iint_D x + y\\; dA}$$ for disken $$D=\\{(x,y)\\in \\mathbb{R}^2\\; | \\; x^2+y^2\\leq 1\\}.$$\n",
    "\n",
    "Vi gjør dette ved å integrere over et rektangel som inneholder $D$, \n",
    "$$\\displaystyle{\\int_{-1}^1\\int_{-1}^1 f(x,y)\\; dA}$$\n",
    "men definerer funksjonen $f$ lik $0$ utenfor disken.\n"
   ]
  },
  {
   "cell_type": "code",
   "execution_count": null,
   "id": "f41565f5",
   "metadata": {},
   "outputs": [],
   "source": [
    "import numpy as np\n",
    "from scipy import integrate\n",
    "\n",
    "f = lambda x,y : x + y if x*x+y*y <= 1 else 0\n",
    "\n",
    "result = integrate.dblquad(f, -1,1, -1,1)\n",
    "print(result)"
   ]
  },
  {
   "cell_type": "markdown",
   "id": "c7cc20d6",
   "metadata": {},
   "source": [
    "# Integrasjon fra diskretisering\n",
    "\n",
    "Vi legger til denne når vi vet hvordan vi kommer til å diskretisere når vi kjører endelig volum metode.\n",
    "\n",
    "\n"
   ]
  }
 ],
 "metadata": {
  "kernelspec": {
   "display_name": "Python 3",
   "language": "python",
   "name": "python3"
  },
  "language_info": {
   "codemirror_mode": {
    "name": "ipython",
    "version": 3
   },
   "file_extension": ".py",
   "mimetype": "text/x-python",
   "name": "python",
   "nbconvert_exporter": "python",
   "pygments_lexer": "ipython3",
   "version": "3.12.6"
  }
 },
 "nbformat": 4,
 "nbformat_minor": 5
}
