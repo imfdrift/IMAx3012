{
 "cells": [
  {
   "cell_type": "markdown",
   "id": "40d3b743",
   "metadata": {},
   "source": [
    "# Velkommen\n",
    "\n"
   ]
  }
 ],
 "metadata": {
  "language_info": {
   "name": "python"
  }
 },
 "nbformat": 4,
 "nbformat_minor": 5
}
