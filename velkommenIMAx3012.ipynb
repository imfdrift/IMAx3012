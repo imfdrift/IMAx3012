{
 "cells": [
  {
   "cell_type": "markdown",
   "id": "40d3b743",
   "metadata": {},
   "source": [
    "# Velkommen\n",
    "\n",
    "Du er nå inne i **Jupyter-mappen** til emnet IMAx3012 - en server der Python, Pythonpakker og Jupyter-notatbok-programvare er installert. \n",
    "\n",
    "Til venstre ser du flere mapper med filer. Disse filene er såkalte **Jupyter notatbøker** - en digital notatbok der vi blander Python-kode, resultatene vi får fra å kjøre koden, og helt vanlig tekst. Vi bruker filene i tillegg til forelesningsnotater.\n",
    "\n",
    "Du kan bruke og endre filene vi har laget til deg - dette er din kopi av våre filer. Du kan også lage nye mapper og filer så mye du vil. Hvis du logger ut (eller lukker nettleservinduet) så forsvinner selvfølgelig ikke filene dine. \n",
    "\n",
    "Hvis du har klusset det til i en av filene som *vi* har laget, og har lyst til å se hva filen opprinnelig inneholdt, så er det enklest at du endrer navn på filen (der du har klusset til ting) og logger ut ved å lukke vinduet i nettleseren, da vil vår originale fil lastes inn på nytt når du åpner huben og logger inn på nytt. Istedenfor å endre navn på fila (som var klusset til) så kan du også slette den og logge ut - og da vil vår originale fil lastes inn på nytt når du åpner huben igjen.\n",
    "\n",
    "### *Notatene er under utvikling og det vil forekomme endringer og forbedringer underveis i kurset.*"
   ]
  },
  {
   "cell_type": "markdown",
   "id": "fb83003d",
   "metadata": {},
   "source": [
    "## Et lite eksempel"
   ]
  },
  {
   "cell_type": "markdown",
   "id": "0b288347",
   "metadata": {},
   "source": [
    "Teksten du leser her er i såkalt markdown format. Dobbelklikk på denne teksten og du kommer i redigeringsmodus. Du har nå lov til å redigere teksten i denne *cellen*. Se øverst i verktøylinja at det står \"Markdown\".\n",
    "\n",
    "**For å \"kjøre\" cellen trykker du på play-knappen i verktøylinja, eller shift-enter**."
   ]
  },
  {
   "cell_type": "markdown",
   "id": "b2de4d26",
   "metadata": {},
   "source": [
    "Under ser du en grå boks med kode i. Klikk på denne boksen for å komme i redigeringsmodus. Nå står det \"Code\" øverst i verktøy-linja. Når denne cellen med kode \"kjøres\" (play-knappen eller shift-enter) så kjører du faktisk python-kode. Den første cellen med python-kode i våre notatbøker er alltid import av pakker med funksjoner som vi vil trenge. Du må *alltid* kjøre denne cellen før du går videre. "
   ]
  },
  {
   "cell_type": "code",
   "execution_count": null,
   "id": "d601443a",
   "metadata": {
    "vscode": {
     "languageId": "plaintext"
    }
   },
   "outputs": [],
   "source": [
    "import numpy as np  # laste inn en pakken numpy for å gjøre numeriske beregninger"
   ]
  },
  {
   "cell_type": "markdown",
   "id": "0906dbca",
   "metadata": {},
   "source": [
    "I den neste cellen med kode har vi laget en vektor, eller 1DArray som det heter i numpy. Vi har kalt vektoren for x. Vi har også skrevet en kode-linje for å regne ut cosinus av tallene i vektoren. Prøv å kjøre koden i cellen!\n",
    "\n",
    "(Husk at du *må* ha importert pakken numpy (altså, kjørt cellen over) for at koden under skal fungere)"
   ]
  },
  {
   "cell_type": "code",
   "execution_count": null,
   "id": "71947099",
   "metadata": {
    "vscode": {
     "languageId": "plaintext"
    }
   },
   "outputs": [],
   "source": [
    "x = np.array([8.0, 1.3, 2.5, 4.2, 28.0])\n",
    "\n",
    "np.cos(x)"
   ]
  }
 ],
 "metadata": {
  "language_info": {
   "name": "python"
  }
 },
 "nbformat": 4,
 "nbformat_minor": 5
}
